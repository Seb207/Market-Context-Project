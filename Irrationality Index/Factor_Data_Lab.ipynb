{
  "nbformat": 4,
  "nbformat_minor": 0,
  "metadata": {
    "colab": {
      "provenance": [],
      "mount_file_id": "1_WSiBhW1eW4Khy-BvyeGdUV4TlGOkdWw",
      "authorship_tag": "ABX9TyPD2p/hNJiB84EB+pRhKeKj",
      "include_colab_link": true
    },
    "kernelspec": {
      "name": "python3",
      "display_name": "Python 3"
    },
    "language_info": {
      "name": "python"
    }
  },
  "cells": [
    {
      "cell_type": "markdown",
      "metadata": {
        "id": "view-in-github",
        "colab_type": "text"
      },
      "source": [
        "<a href=\"https://colab.research.google.com/github/Seb207/Market-Context-Project/blob/main/Irrationality%20Index/Factor_Data_Lab.ipynb\" target=\"_parent\"><img src=\"https://colab.research.google.com/assets/colab-badge.svg\" alt=\"Open In Colab\"/></a>"
      ]
    },
    {
      "cell_type": "markdown",
      "source": [
        "# Import Libraries"
      ],
      "metadata": {
        "id": "3l-NSlgLQs7r"
      }
    },
    {
      "cell_type": "code",
      "execution_count": 1,
      "metadata": {
        "id": "quvU4BGPQOlb"
      },
      "outputs": [],
      "source": [
        "import sys, os\n",
        "\n",
        "import numpy as np\n",
        "import pandas as pd\n",
        "import psycopg2\n",
        "from matplotlib import pyplot as plt\n",
        "import datetime as dt"
      ]
    },
    {
      "cell_type": "code",
      "source": [
        "from google.colab import drive\n",
        "drive.mount('/content/drive')"
      ],
      "metadata": {
        "colab": {
          "base_uri": "https://localhost:8080/"
        },
        "id": "FmKEJvkLTK0F",
        "outputId": "1ac2f57b-17c1-4884-8819-0e6b18feb668"
      },
      "execution_count": null,
      "outputs": [
        {
          "output_type": "stream",
          "name": "stdout",
          "text": [
            "Mounted at /content/drive\n"
          ]
        }
      ]
    },
    {
      "cell_type": "markdown",
      "source": [
        "# Factors Used\n",
        "\n",
        "- Target Price Data: QQQ, SPY, DIA, IWM\n",
        "\n",
        "- Factor Data:\n",
        "1. VIX\n",
        "2. Trading Volume (1w, 1m, 3m, 6m)\n",
        "3. US 2, 10, 20, 30 year bond yield\n",
        "4. Rate of Return (1m, 3m, 6m)\n",
        "5. Small or Large cap rate of return"
      ],
      "metadata": {
        "id": "c0RR3WFlQw8_"
      }
    },
    {
      "cell_type": "markdown",
      "source": [
        "# Refinitiv Session Manager"
      ],
      "metadata": {
        "id": "LwAtu-QURv5q"
      }
    },
    {
      "cell_type": "code",
      "source": [
        "pip install refinitiv-data"
      ],
      "metadata": {
        "id": "foYM5VALQzZj",
        "colab": {
          "base_uri": "https://localhost:8080/"
        },
        "collapsed": true,
        "outputId": "2298bb7f-51cf-4a6b-eb11-828a460431c3"
      },
      "execution_count": 1,
      "outputs": [
        {
          "output_type": "stream",
          "name": "stdout",
          "text": [
            "Requirement already satisfied: refinitiv-data in /usr/local/lib/python3.12/dist-packages (1.6.2)\n",
            "Requirement already satisfied: appdirs~=1.4.4 in /usr/local/lib/python3.12/dist-packages (from refinitiv-data) (1.4.4)\n",
            "Requirement already satisfied: pyee<=11.1.0,>=9.0.4 in /usr/local/lib/python3.12/dist-packages (from refinitiv-data) (11.1.0)\n",
            "Requirement already satisfied: httpx<0.27.0,>=0.18.0 in /usr/local/lib/python3.12/dist-packages (from refinitiv-data) (0.26.0)\n",
            "Requirement already satisfied: httpcore<1.1.0 in /usr/local/lib/python3.12/dist-packages (from refinitiv-data) (1.0.9)\n",
            "Requirement already satisfied: PyMySQL>=1.0.2 in /usr/local/lib/python3.12/dist-packages (from refinitiv-data) (1.1.2)\n",
            "Requirement already satisfied: numpy~=1.11 in /usr/local/lib/python3.12/dist-packages (from refinitiv-data) (1.26.4)\n",
            "Requirement already satisfied: pandas<3.0.0,>=1.3.5 in /usr/local/lib/python3.12/dist-packages (from refinitiv-data) (2.2.2)\n",
            "Requirement already satisfied: python-dateutil<3.0.0 in /usr/local/lib/python3.12/dist-packages (from refinitiv-data) (2.9.0.post0)\n",
            "Requirement already satisfied: requests~=2.28 in /usr/local/lib/python3.12/dist-packages (from refinitiv-data) (2.32.4)\n",
            "Requirement already satisfied: scipy<1.13.0 in /usr/local/lib/python3.12/dist-packages (from refinitiv-data) (1.12.0)\n",
            "Requirement already satisfied: tenacity~=8.0 in /usr/local/lib/python3.12/dist-packages (from refinitiv-data) (8.5.0)\n",
            "Requirement already satisfied: watchdog<3.0.0,>=0.10.2 in /usr/local/lib/python3.12/dist-packages (from refinitiv-data) (2.3.1)\n",
            "Requirement already satisfied: websocket-client!=1.5.0,!=1.5.2,~=1.5 in /usr/local/lib/python3.12/dist-packages (from refinitiv-data) (1.8.0)\n",
            "Requirement already satisfied: pyhumps<4.0.0,>=3.0.2 in /usr/local/lib/python3.12/dist-packages (from refinitiv-data) (3.8.0)\n",
            "Requirement already satisfied: jinja2<4.0.0,>=3.0.3 in /usr/local/lib/python3.12/dist-packages (from refinitiv-data) (3.1.6)\n",
            "Requirement already satisfied: simplejson~=3.15 in /usr/local/lib/python3.12/dist-packages (from refinitiv-data) (3.20.1)\n",
            "Requirement already satisfied: certifi in /usr/local/lib/python3.12/dist-packages (from httpcore<1.1.0->refinitiv-data) (2025.8.3)\n",
            "Requirement already satisfied: h11>=0.16 in /usr/local/lib/python3.12/dist-packages (from httpcore<1.1.0->refinitiv-data) (0.16.0)\n",
            "Requirement already satisfied: anyio in /usr/local/lib/python3.12/dist-packages (from httpx<0.27.0,>=0.18.0->refinitiv-data) (4.10.0)\n",
            "Requirement already satisfied: idna in /usr/local/lib/python3.12/dist-packages (from httpx<0.27.0,>=0.18.0->refinitiv-data) (3.10)\n",
            "Requirement already satisfied: sniffio in /usr/local/lib/python3.12/dist-packages (from httpx<0.27.0,>=0.18.0->refinitiv-data) (1.3.1)\n",
            "Requirement already satisfied: MarkupSafe>=2.0 in /usr/local/lib/python3.12/dist-packages (from jinja2<4.0.0,>=3.0.3->refinitiv-data) (3.0.2)\n",
            "Requirement already satisfied: pytz>=2020.1 in /usr/local/lib/python3.12/dist-packages (from pandas<3.0.0,>=1.3.5->refinitiv-data) (2025.2)\n",
            "Requirement already satisfied: tzdata>=2022.7 in /usr/local/lib/python3.12/dist-packages (from pandas<3.0.0,>=1.3.5->refinitiv-data) (2025.2)\n",
            "Requirement already satisfied: typing-extensions in /usr/local/lib/python3.12/dist-packages (from pyee<=11.1.0,>=9.0.4->refinitiv-data) (4.15.0)\n",
            "Requirement already satisfied: six>=1.5 in /usr/local/lib/python3.12/dist-packages (from python-dateutil<3.0.0->refinitiv-data) (1.17.0)\n",
            "Requirement already satisfied: charset_normalizer<4,>=2 in /usr/local/lib/python3.12/dist-packages (from requests~=2.28->refinitiv-data) (3.4.3)\n",
            "Requirement already satisfied: urllib3<3,>=1.21.1 in /usr/local/lib/python3.12/dist-packages (from requests~=2.28->refinitiv-data) (2.5.0)\n"
          ]
        }
      ]
    },
    {
      "cell_type": "code",
      "source": [
        "pip install refinitiv-dataplatform"
      ],
      "metadata": {
        "colab": {
          "base_uri": "https://localhost:8080/",
          "height": 1000
        },
        "collapsed": true,
        "id": "pso9aJzdxeAt",
        "outputId": "a49299a6-48ba-47f1-97aa-adfaac080039"
      },
      "execution_count": 8,
      "outputs": [
        {
          "output_type": "stream",
          "name": "stdout",
          "text": [
            "Collecting refinitiv-dataplatform\n",
            "  Downloading refinitiv_dataplatform-1.0.0a21-py3-none-any.whl.metadata (6.7 kB)\n",
            "Requirement already satisfied: httpx>=0.18.0 in /usr/local/lib/python3.12/dist-packages (from refinitiv-dataplatform) (0.26.0)\n",
            "Requirement already satisfied: nest-asyncio in /usr/local/lib/python3.12/dist-packages (from refinitiv-dataplatform) (1.6.0)\n",
            "Collecting datetime (from refinitiv-dataplatform)\n",
            "  Downloading DateTime-5.5-py3-none-any.whl.metadata (33 kB)\n",
            "Collecting validators (from refinitiv-dataplatform)\n",
            "  Downloading validators-0.35.0-py3-none-any.whl.metadata (3.9 kB)\n",
            "Requirement already satisfied: pandas>=1.0.0 in /usr/local/lib/python3.12/dist-packages (from refinitiv-dataplatform) (2.2.2)\n",
            "Requirement already satisfied: numpy>=1.11.0 in /usr/local/lib/python3.12/dist-packages (from refinitiv-dataplatform) (1.26.4)\n",
            "Requirement already satisfied: appdirs>=1.4.3 in /usr/local/lib/python3.12/dist-packages (from refinitiv-dataplatform) (1.4.4)\n",
            "Requirement already satisfied: python-dateutil in /usr/local/lib/python3.12/dist-packages (from refinitiv-dataplatform) (2.9.0.post0)\n",
            "Requirement already satisfied: websocket-client!=1.0.0,>=0.54.0 in /usr/local/lib/python3.12/dist-packages (from refinitiv-dataplatform) (1.8.0)\n",
            "Collecting deprecation (from refinitiv-dataplatform)\n",
            "  Downloading deprecation-2.1.0-py2.py3-none-any.whl.metadata (4.6 kB)\n",
            "Collecting python-configuration!=0.8.0,>=0.7.1 (from refinitiv-dataplatform)\n",
            "  Downloading python_configuration-0.12.1-py3-none-any.whl.metadata (14 kB)\n",
            "Collecting eventemitter>=0.2.0 (from refinitiv-dataplatform)\n",
            "  Downloading eventemitter-0.2.0.tar.gz (12 kB)\n",
            "  Preparing metadata (setup.py) ... \u001b[?25l\u001b[?25hdone\n",
            "Requirement already satisfied: watchdog>=0.10.2 in /usr/local/lib/python3.12/dist-packages (from refinitiv-dataplatform) (2.3.1)\n",
            "Requirement already satisfied: scipy in /usr/local/lib/python3.12/dist-packages (from refinitiv-dataplatform) (1.12.0)\n",
            "Requirement already satisfied: certifi in /usr/local/lib/python3.12/dist-packages (from refinitiv-dataplatform) (2025.8.3)\n",
            "Collecting chardet==3.* (from refinitiv-dataplatform)\n",
            "  Downloading chardet-3.0.4-py2.py3-none-any.whl.metadata (3.2 kB)\n",
            "Collecting h2==3.* (from refinitiv-dataplatform)\n",
            "  Downloading h2-3.2.0-py2.py3-none-any.whl.metadata (32 kB)\n",
            "Collecting idna==2.* (from refinitiv-dataplatform)\n",
            "  Downloading idna-2.10-py2.py3-none-any.whl.metadata (9.1 kB)\n",
            "Collecting rfc3986==1.* (from refinitiv-dataplatform)\n",
            "  Downloading rfc3986-1.5.0-py2.py3-none-any.whl.metadata (6.5 kB)\n",
            "Requirement already satisfied: requests==2.* in /usr/local/lib/python3.12/dist-packages (from refinitiv-dataplatform) (2.32.4)\n",
            "Collecting hyperframe<6,>=5.2.0 (from h2==3.*->refinitiv-dataplatform)\n",
            "  Downloading hyperframe-5.2.0-py2.py3-none-any.whl.metadata (7.2 kB)\n",
            "Collecting hpack<4,>=3.0 (from h2==3.*->refinitiv-dataplatform)\n",
            "  Downloading hpack-3.0.0-py2.py3-none-any.whl.metadata (7.0 kB)\n",
            "Requirement already satisfied: charset_normalizer<4,>=2 in /usr/local/lib/python3.12/dist-packages (from requests==2.*->refinitiv-dataplatform) (3.4.3)\n",
            "Requirement already satisfied: urllib3<3,>=1.21.1 in /usr/local/lib/python3.12/dist-packages (from requests==2.*->refinitiv-dataplatform) (2.5.0)\n",
            "Requirement already satisfied: anyio in /usr/local/lib/python3.12/dist-packages (from httpx>=0.18.0->refinitiv-dataplatform) (4.10.0)\n",
            "Requirement already satisfied: httpcore==1.* in /usr/local/lib/python3.12/dist-packages (from httpx>=0.18.0->refinitiv-dataplatform) (1.0.9)\n",
            "Requirement already satisfied: sniffio in /usr/local/lib/python3.12/dist-packages (from httpx>=0.18.0->refinitiv-dataplatform) (1.3.1)\n",
            "Requirement already satisfied: h11>=0.16 in /usr/local/lib/python3.12/dist-packages (from httpcore==1.*->httpx>=0.18.0->refinitiv-dataplatform) (0.16.0)\n",
            "Requirement already satisfied: pytz>=2020.1 in /usr/local/lib/python3.12/dist-packages (from pandas>=1.0.0->refinitiv-dataplatform) (2025.2)\n",
            "Requirement already satisfied: tzdata>=2022.7 in /usr/local/lib/python3.12/dist-packages (from pandas>=1.0.0->refinitiv-dataplatform) (2025.2)\n",
            "Requirement already satisfied: six>=1.5 in /usr/local/lib/python3.12/dist-packages (from python-dateutil->refinitiv-dataplatform) (1.17.0)\n",
            "Collecting zope.interface (from datetime->refinitiv-dataplatform)\n",
            "  Downloading zope.interface-7.2-cp312-cp312-manylinux_2_5_x86_64.manylinux1_x86_64.manylinux_2_17_x86_64.manylinux2014_x86_64.whl.metadata (44 kB)\n",
            "\u001b[2K     \u001b[90m━━━━━━━━━━━━━━━━━━━━━━━━━━━━━━━━━━━━━━━━\u001b[0m \u001b[32m44.4/44.4 kB\u001b[0m \u001b[31m1.5 MB/s\u001b[0m eta \u001b[36m0:00:00\u001b[0m\n",
            "\u001b[?25hRequirement already satisfied: packaging in /usr/local/lib/python3.12/dist-packages (from deprecation->refinitiv-dataplatform) (25.0)\n",
            "Requirement already satisfied: typing_extensions>=4.5 in /usr/local/lib/python3.12/dist-packages (from anyio->httpx>=0.18.0->refinitiv-dataplatform) (4.15.0)\n",
            "Requirement already satisfied: setuptools in /usr/local/lib/python3.12/dist-packages (from zope.interface->datetime->refinitiv-dataplatform) (75.2.0)\n",
            "Downloading refinitiv_dataplatform-1.0.0a21-py3-none-any.whl (498 kB)\n",
            "\u001b[2K   \u001b[90m━━━━━━━━━━━━━━━━━━━━━━━━━━━━━━━━━━━━━━━━\u001b[0m \u001b[32m498.1/498.1 kB\u001b[0m \u001b[31m3.6 MB/s\u001b[0m eta \u001b[36m0:00:00\u001b[0m\n",
            "\u001b[?25hDownloading chardet-3.0.4-py2.py3-none-any.whl (133 kB)\n",
            "\u001b[2K   \u001b[90m━━━━━━━━━━━━━━━━━━━━━━━━━━━━━━━━━━━━━━━━\u001b[0m \u001b[32m133.4/133.4 kB\u001b[0m \u001b[31m11.5 MB/s\u001b[0m eta \u001b[36m0:00:00\u001b[0m\n",
            "\u001b[?25hDownloading h2-3.2.0-py2.py3-none-any.whl (65 kB)\n",
            "\u001b[2K   \u001b[90m━━━━━━━━━━━━━━━━━━━━━━━━━━━━━━━━━━━━━━━━\u001b[0m \u001b[32m65.0/65.0 kB\u001b[0m \u001b[31m4.9 MB/s\u001b[0m eta \u001b[36m0:00:00\u001b[0m\n",
            "\u001b[?25hDownloading idna-2.10-py2.py3-none-any.whl (58 kB)\n",
            "\u001b[2K   \u001b[90m━━━━━━━━━━━━━━━━━━━━━━━━━━━━━━━━━━━━━━━━\u001b[0m \u001b[32m58.8/58.8 kB\u001b[0m \u001b[31m4.3 MB/s\u001b[0m eta \u001b[36m0:00:00\u001b[0m\n",
            "\u001b[?25hDownloading rfc3986-1.5.0-py2.py3-none-any.whl (31 kB)\n",
            "Downloading python_configuration-0.12.1-py3-none-any.whl (26 kB)\n",
            "Downloading DateTime-5.5-py3-none-any.whl (52 kB)\n",
            "\u001b[2K   \u001b[90m━━━━━━━━━━━━━━━━━━━━━━━━━━━━━━━━━━━━━━━━\u001b[0m \u001b[32m52.6/52.6 kB\u001b[0m \u001b[31m3.8 MB/s\u001b[0m eta \u001b[36m0:00:00\u001b[0m\n",
            "\u001b[?25hDownloading deprecation-2.1.0-py2.py3-none-any.whl (11 kB)\n",
            "Downloading validators-0.35.0-py3-none-any.whl (44 kB)\n",
            "\u001b[2K   \u001b[90m━━━━━━━━━━━━━━━━━━━━━━━━━━━━━━━━━━━━━━━━\u001b[0m \u001b[32m44.7/44.7 kB\u001b[0m \u001b[31m3.5 MB/s\u001b[0m eta \u001b[36m0:00:00\u001b[0m\n",
            "\u001b[?25hDownloading hpack-3.0.0-py2.py3-none-any.whl (38 kB)\n",
            "Downloading hyperframe-5.2.0-py2.py3-none-any.whl (12 kB)\n",
            "Downloading zope.interface-7.2-cp312-cp312-manylinux_2_5_x86_64.manylinux1_x86_64.manylinux_2_17_x86_64.manylinux2014_x86_64.whl (264 kB)\n",
            "\u001b[2K   \u001b[90m━━━━━━━━━━━━━━━━━━━━━━━━━━━━━━━━━━━━━━━━\u001b[0m \u001b[32m264.7/264.7 kB\u001b[0m \u001b[31m15.1 MB/s\u001b[0m eta \u001b[36m0:00:00\u001b[0m\n",
            "\u001b[?25hBuilding wheels for collected packages: eventemitter\n",
            "  Building wheel for eventemitter (setup.py) ... \u001b[?25l\u001b[?25hdone\n",
            "  Created wheel for eventemitter: filename=eventemitter-0.2.0-py3-none-any.whl size=12941 sha256=09001bc76c943686ffab940e44a2dbec9393b6c16b4c5af0730336f5b55cb6f1\n",
            "  Stored in directory: /root/.cache/pip/wheels/08/60/18/1267105e4d24dca85e229d528fa34d713c2a22a5f538f15085\n",
            "Successfully built eventemitter\n",
            "Installing collected packages: rfc3986, hyperframe, hpack, eventemitter, chardet, zope.interface, validators, python-configuration, idna, h2, deprecation, datetime, refinitiv-dataplatform\n",
            "  Attempting uninstall: hyperframe\n",
            "    Found existing installation: hyperframe 6.1.0\n",
            "    Uninstalling hyperframe-6.1.0:\n",
            "      Successfully uninstalled hyperframe-6.1.0\n",
            "  Attempting uninstall: hpack\n",
            "    Found existing installation: hpack 4.1.0\n",
            "    Uninstalling hpack-4.1.0:\n",
            "      Successfully uninstalled hpack-4.1.0\n",
            "  Attempting uninstall: chardet\n",
            "    Found existing installation: chardet 5.2.0\n",
            "    Uninstalling chardet-5.2.0:\n",
            "      Successfully uninstalled chardet-5.2.0\n",
            "  Attempting uninstall: idna\n",
            "    Found existing installation: idna 3.10\n",
            "    Uninstalling idna-3.10:\n",
            "      Successfully uninstalled idna-3.10\n",
            "  Attempting uninstall: h2\n",
            "    Found existing installation: h2 4.3.0\n",
            "    Uninstalling h2-4.3.0:\n",
            "      Successfully uninstalled h2-4.3.0\n",
            "\u001b[31mERROR: pip's dependency resolver does not currently take into account all the packages that are installed. This behaviour is the source of the following dependency conflicts.\n",
            "mcp 1.13.1 requires httpx>=0.27.1, but you have httpx 0.26.0 which is incompatible.\n",
            "google-adk 1.13.0 requires watchdog<7.0.0,>=6.0.0, but you have watchdog 2.3.1 which is incompatible.\n",
            "firebase-admin 6.9.0 requires httpx[http2]==0.28.1, but you have httpx 0.26.0 which is incompatible.\n",
            "google-genai 1.32.0 requires httpx<1.0.0,>=0.28.1, but you have httpx 0.26.0 which is incompatible.\u001b[0m\u001b[31m\n",
            "\u001b[0mSuccessfully installed chardet-3.0.4 datetime-5.5 deprecation-2.1.0 eventemitter-0.2.0 h2-3.2.0 hpack-3.0.0 hyperframe-5.2.0 idna-2.10 python-configuration-0.12.1 refinitiv-dataplatform-1.0.0a21 rfc3986-1.5.0 validators-0.35.0 zope.interface-7.2\n"
          ]
        },
        {
          "output_type": "display_data",
          "data": {
            "application/vnd.colab-display-data+json": {
              "pip_warning": {
                "packages": [
                  "chardet",
                  "h2",
                  "hpack",
                  "hyperframe",
                  "idna",
                  "refinitiv"
                ]
              },
              "id": "28aca998830b4dcb9759361fc74831b3"
            }
          },
          "metadata": {}
        }
      ]
    },
    {
      "cell_type": "code",
      "source": [
        "import refinitiv.data as rd\n",
        "import refinitiv.dataplatform as rdp\n",
        "import refinitiv.data.content.symbol_conversion as rsc\n",
        "import datetime as dt\n",
        "\n",
        "# import credentials\n",
        "from google.colab import userdata as ud"
      ],
      "metadata": {
        "id": "RQLgJmljSElF"
      },
      "execution_count": 1,
      "outputs": []
    },
    {
      "cell_type": "code",
      "source": [
        "APP_KEY = ud.get('APP_KEY')\n",
        "rd.open_session()"
      ],
      "metadata": {
        "colab": {
          "base_uri": "https://localhost:8080/"
        },
        "id": "3KX6KyiKZppJ",
        "outputId": "3bad4882-d03c-4c71-b9bb-63588231dee4"
      },
      "execution_count": 2,
      "outputs": [
        {
          "output_type": "stream",
          "name": "stderr",
          "text": [
            "An error occurred while requesting URL('http://localhost:9000/api/status').\n",
            "\tConnectError('[Errno 99] Cannot assign requested address')\n",
            "An error occurred while requesting URL('http://localhost:9060/api/status').\n",
            "\tConnectError('[Errno 99] Cannot assign requested address')\n",
            "Error: no proxy address identified.\n",
            "Check if Desktop is running.\n",
            "An error occurred while requesting URL('http://localhost:9000/api/handshake').\n",
            "\tConnectError('[Errno 99] Cannot assign requested address')\n",
            "Error on handshake url http://localhost:9000/api/handshake : ConnectError('[Errno 99] Cannot assign requested address')\n"
          ]
        },
        {
          "output_type": "execute_result",
          "data": {
            "text/plain": [
              "<refinitiv.data.session.Definition object at 0x7c4f1b2a0ec0 {name='workspace'}>"
            ]
          },
          "metadata": {},
          "execution_count": 2
        }
      ]
    },
    {
      "cell_type": "code",
      "source": [
        "APP_KEY = ud.get('APP_KEY')\n",
        "USERNAME = ud.get('USERNAME')\n",
        "PASSWORD = ud.get('PASSWORD')\n",
        "\n",
        "grant_password = rd.session.platform.GrantPassword(\n",
        "    username=\"USERNAME\",\n",
        "    password=\"PASSWORD\"\n",
        ")\n",
        "\n",
        "platform_session_definition = rd.session.platform.Definition(\n",
        "  app_key=\"APP_KEY\",\n",
        "  grant=grant_password,\n",
        "  signon_control=True\n",
        ").get_session()\n",
        "\n",
        "rd.session.set_default(platform_session_definition)\n",
        "\n",
        "rd.open_session()"
      ],
      "metadata": {
        "colab": {
          "base_uri": "https://localhost:8080/"
        },
        "id": "z73NnUfNyn0Y",
        "outputId": "536b5761-bfbd-4511-e76e-0c21c079c306"
      },
      "execution_count": 10,
      "outputs": [
        {
          "output_type": "stream",
          "name": "stderr",
          "text": [
            "An error occurred while requesting URL('http://localhost:9000/api/status').\n",
            "\tConnectError('[Errno 99] Cannot assign requested address')\n",
            "An error occurred while requesting URL('http://localhost:9060/api/status').\n",
            "\tConnectError('[Errno 99] Cannot assign requested address')\n",
            "Error: no proxy address identified.\n",
            "Check if Desktop is running.\n",
            "An error occurred while requesting URL('http://localhost:9000/api/handshake').\n",
            "\tConnectError('[Errno 99] Cannot assign requested address')\n",
            "Error on handshake url http://localhost:9000/api/handshake : ConnectError('[Errno 99] Cannot assign requested address')\n"
          ]
        },
        {
          "output_type": "execute_result",
          "data": {
            "text/plain": [
              "<refinitiv.data.session.Definition object at 0x7c4f178c4950 {name='workspace'}>"
            ]
          },
          "metadata": {},
          "execution_count": 10
        }
      ]
    },
    {
      "cell_type": "code",
      "source": [
        "def refinitiv_open_session():\n",
        "  \"\"\"\n",
        "  function to open Refinitiv API session\n",
        "\n",
        "  return\n",
        "  ------\n",
        "  open_state: open session\n",
        "  \"\"\"\n",
        "  APP_KEY = ud.get('APP_KEY')\n",
        "  USERNAME = ud.get('USERNAME')\n",
        "  PASSWORD = ud.get('PASSWORD')\n",
        "\n",
        "  DESKTOP_APP_KEY = APP_KEY\n",
        "  session = rd.session.desktop.Definition(app_key=DESKTOP_APP_KEY).get_session()\n",
        "  rd.session.set_default(session)\n",
        "\n",
        "  state = rd.get_default_session().get_open_state()\n",
        "\n",
        "  return state"
      ],
      "metadata": {
        "id": "oWMhgOkgSGk8"
      },
      "execution_count": null,
      "outputs": []
    },
    {
      "cell_type": "code",
      "source": [
        "def refinitiv_close_session():\n",
        "  \"\"\"\n",
        "  function to close Refinitv API session\n",
        "\n",
        "  return\n",
        "  ------\n",
        "  state: closed session\n",
        "  \"\"\"\n",
        "  rd.close_session()\n",
        "\n",
        "  state = rd.get_default_session().get_open_state()\n",
        "\n",
        "  return state"
      ],
      "metadata": {
        "id": "z6k6fOLISIl1"
      },
      "execution_count": null,
      "outputs": []
    },
    {
      "cell_type": "markdown",
      "source": [
        "[Refinitiv Data API Reference]\n",
        "\n",
        "https://cdn.refinitiv.com/public/rd-lib-python-doc/1.0.0.0/book/en/sections/content-layer/historical-pricing/historical-pricing-events/historical-pricing-events-definition.html"
      ],
      "metadata": {
        "id": "gxp1IN97Rrwt"
      }
    },
    {
      "cell_type": "markdown",
      "source": [
        "# #1 Retrieve Data & Process\n",
        "\n",
        "1. Data: QQQ\n",
        "2. Duration: 10-year data (2014.12.31 ~ 2024.12.31)\n",
        "3. Tick: 1 day, 1 hour, 1 minute\n"
      ],
      "metadata": {
        "id": "A1ItXKgjRz2h"
      }
    },
    {
      "cell_type": "code",
      "source": [
        "refinitiv_open_session()"
      ],
      "metadata": {
        "colab": {
          "base_uri": "https://localhost:8080/",
          "height": 293
        },
        "id": "tcTa8SiH77yO",
        "outputId": "d384b5d6-ccff-4a21-f9a3-6b594bde2c93"
      },
      "execution_count": null,
      "outputs": [
        {
          "output_type": "error",
          "ename": "AttributeError",
          "evalue": "No refinitiv.data attribute open_platform_session",
          "traceback": [
            "\u001b[0;31m---------------------------------------------------------------------------\u001b[0m",
            "\u001b[0;31mAttributeError\u001b[0m                            Traceback (most recent call last)",
            "\u001b[0;32m/tmp/ipython-input-1881502699.py\u001b[0m in \u001b[0;36m<cell line: 0>\u001b[0;34m()\u001b[0m\n\u001b[0;32m----> 1\u001b[0;31m \u001b[0mrefinitiv_open_session\u001b[0m\u001b[0;34m(\u001b[0m\u001b[0;34m)\u001b[0m\u001b[0;34m\u001b[0m\u001b[0;34m\u001b[0m\u001b[0m\n\u001b[0m",
            "\u001b[0;32m/tmp/ipython-input-357197076.py\u001b[0m in \u001b[0;36mrefinitiv_open_session\u001b[0;34m()\u001b[0m\n\u001b[1;32m     11\u001b[0m   \u001b[0mPASSWORD\u001b[0m \u001b[0;34m=\u001b[0m \u001b[0mud\u001b[0m\u001b[0;34m.\u001b[0m\u001b[0mget\u001b[0m\u001b[0;34m(\u001b[0m\u001b[0;34m'PASSWORD'\u001b[0m\u001b[0;34m)\u001b[0m\u001b[0;34m\u001b[0m\u001b[0;34m\u001b[0m\u001b[0m\n\u001b[1;32m     12\u001b[0m \u001b[0;34m\u001b[0m\u001b[0m\n\u001b[0;32m---> 13\u001b[0;31m   rd.open_platform_session(\n\u001b[0m\u001b[1;32m     14\u001b[0m       \u001b[0mAPP_KEY\u001b[0m\u001b[0;34m,\u001b[0m\u001b[0;34m\u001b[0m\u001b[0;34m\u001b[0m\u001b[0m\n\u001b[1;32m     15\u001b[0m       rdp.GrantPassword(\n",
            "\u001b[0;32m/usr/local/lib/python3.12/dist-packages/refinitiv/data/_tools/_lazy_loader.py\u001b[0m in \u001b[0;36m__getattr__\u001b[0;34m(name)\u001b[0m\n\u001b[1;32m     88\u001b[0m             \u001b[0;32mreturn\u001b[0m \u001b[0mattr\u001b[0m\u001b[0;34m\u001b[0m\u001b[0;34m\u001b[0m\u001b[0m\n\u001b[1;32m     89\u001b[0m         \u001b[0;32melse\u001b[0m\u001b[0;34m:\u001b[0m\u001b[0;34m\u001b[0m\u001b[0;34m\u001b[0m\u001b[0m\n\u001b[0;32m---> 90\u001b[0;31m             \u001b[0;32mraise\u001b[0m \u001b[0mAttributeError\u001b[0m\u001b[0;34m(\u001b[0m\u001b[0;34mf\"No {package_name} attribute {name}\"\u001b[0m\u001b[0;34m)\u001b[0m\u001b[0;34m\u001b[0m\u001b[0;34m\u001b[0m\u001b[0m\n\u001b[0m\u001b[1;32m     91\u001b[0m \u001b[0;34m\u001b[0m\u001b[0m\n\u001b[1;32m     92\u001b[0m     \u001b[0;32mdef\u001b[0m \u001b[0m__dir__\u001b[0m\u001b[0;34m(\u001b[0m\u001b[0;34m)\u001b[0m\u001b[0;34m:\u001b[0m\u001b[0;34m\u001b[0m\u001b[0;34m\u001b[0m\u001b[0m\n",
            "\u001b[0;31mAttributeError\u001b[0m: No refinitiv.data attribute open_platform_session"
          ]
        }
      ]
    },
    {
      "cell_type": "code",
      "source": [
        "nvda_daily = rdp.get_history('NVDA.O', interval='daily', )"
      ],
      "metadata": {
        "id": "4VAqgWLRLfyo"
      },
      "execution_count": null,
      "outputs": []
    },
    {
      "cell_type": "code",
      "source": [
        "start = dt.datetime(2024, 12, 31)\n",
        "end = dt.datetime(2024, 12, 31)\n",
        "\n",
        "qqq_daily = rdp.get_historical_price_summaries('QQQ', start=start, end=end, interval=rdp.Intervals.DAILY)\n",
        "qqq_daily = pd.DataFrame(qqq_daily)"
      ],
      "metadata": {
        "id": "M9HA5fFFR2nQ"
      },
      "execution_count": null,
      "outputs": []
    },
    {
      "cell_type": "code",
      "source": [
        "qqq_daily.head()"
      ],
      "metadata": {
        "colab": {
          "base_uri": "https://localhost:8080/",
          "height": 139
        },
        "id": "YwMmmtjq8C-5",
        "outputId": "f86f54fd-b82f-407a-aa5c-c01594957f98"
      },
      "execution_count": null,
      "outputs": [
        {
          "output_type": "execute_result",
          "data": {
            "text/plain": [
              "Empty DataFrame\n",
              "Columns: []\n",
              "Index: []"
            ],
            "text/html": [
              "\n",
              "  <div id=\"df-6a8f9ee6-a4ae-40b8-bf21-790264b663a7\" class=\"colab-df-container\">\n",
              "    <div>\n",
              "<style scoped>\n",
              "    .dataframe tbody tr th:only-of-type {\n",
              "        vertical-align: middle;\n",
              "    }\n",
              "\n",
              "    .dataframe tbody tr th {\n",
              "        vertical-align: top;\n",
              "    }\n",
              "\n",
              "    .dataframe thead th {\n",
              "        text-align: right;\n",
              "    }\n",
              "</style>\n",
              "<table border=\"1\" class=\"dataframe\">\n",
              "  <thead>\n",
              "    <tr style=\"text-align: right;\">\n",
              "      <th></th>\n",
              "    </tr>\n",
              "  </thead>\n",
              "  <tbody>\n",
              "  </tbody>\n",
              "</table>\n",
              "</div>\n",
              "    <div class=\"colab-df-buttons\">\n",
              "\n",
              "  <div class=\"colab-df-container\">\n",
              "    <button class=\"colab-df-convert\" onclick=\"convertToInteractive('df-6a8f9ee6-a4ae-40b8-bf21-790264b663a7')\"\n",
              "            title=\"Convert this dataframe to an interactive table.\"\n",
              "            style=\"display:none;\">\n",
              "\n",
              "  <svg xmlns=\"http://www.w3.org/2000/svg\" height=\"24px\" viewBox=\"0 -960 960 960\">\n",
              "    <path d=\"M120-120v-720h720v720H120Zm60-500h600v-160H180v160Zm220 220h160v-160H400v160Zm0 220h160v-160H400v160ZM180-400h160v-160H180v160Zm440 0h160v-160H620v160ZM180-180h160v-160H180v160Zm440 0h160v-160H620v160Z\"/>\n",
              "  </svg>\n",
              "    </button>\n",
              "\n",
              "  <style>\n",
              "    .colab-df-container {\n",
              "      display:flex;\n",
              "      gap: 12px;\n",
              "    }\n",
              "\n",
              "    .colab-df-convert {\n",
              "      background-color: #E8F0FE;\n",
              "      border: none;\n",
              "      border-radius: 50%;\n",
              "      cursor: pointer;\n",
              "      display: none;\n",
              "      fill: #1967D2;\n",
              "      height: 32px;\n",
              "      padding: 0 0 0 0;\n",
              "      width: 32px;\n",
              "    }\n",
              "\n",
              "    .colab-df-convert:hover {\n",
              "      background-color: #E2EBFA;\n",
              "      box-shadow: 0px 1px 2px rgba(60, 64, 67, 0.3), 0px 1px 3px 1px rgba(60, 64, 67, 0.15);\n",
              "      fill: #174EA6;\n",
              "    }\n",
              "\n",
              "    .colab-df-buttons div {\n",
              "      margin-bottom: 4px;\n",
              "    }\n",
              "\n",
              "    [theme=dark] .colab-df-convert {\n",
              "      background-color: #3B4455;\n",
              "      fill: #D2E3FC;\n",
              "    }\n",
              "\n",
              "    [theme=dark] .colab-df-convert:hover {\n",
              "      background-color: #434B5C;\n",
              "      box-shadow: 0px 1px 3px 1px rgba(0, 0, 0, 0.15);\n",
              "      filter: drop-shadow(0px 1px 2px rgba(0, 0, 0, 0.3));\n",
              "      fill: #FFFFFF;\n",
              "    }\n",
              "  </style>\n",
              "\n",
              "    <script>\n",
              "      const buttonEl =\n",
              "        document.querySelector('#df-6a8f9ee6-a4ae-40b8-bf21-790264b663a7 button.colab-df-convert');\n",
              "      buttonEl.style.display =\n",
              "        google.colab.kernel.accessAllowed ? 'block' : 'none';\n",
              "\n",
              "      async function convertToInteractive(key) {\n",
              "        const element = document.querySelector('#df-6a8f9ee6-a4ae-40b8-bf21-790264b663a7');\n",
              "        const dataTable =\n",
              "          await google.colab.kernel.invokeFunction('convertToInteractive',\n",
              "                                                    [key], {});\n",
              "        if (!dataTable) return;\n",
              "\n",
              "        const docLinkHtml = 'Like what you see? Visit the ' +\n",
              "          '<a target=\"_blank\" href=https://colab.research.google.com/notebooks/data_table.ipynb>data table notebook</a>'\n",
              "          + ' to learn more about interactive tables.';\n",
              "        element.innerHTML = '';\n",
              "        dataTable['output_type'] = 'display_data';\n",
              "        await google.colab.output.renderOutput(dataTable, element);\n",
              "        const docLink = document.createElement('div');\n",
              "        docLink.innerHTML = docLinkHtml;\n",
              "        element.appendChild(docLink);\n",
              "      }\n",
              "    </script>\n",
              "  </div>\n",
              "\n",
              "\n",
              "    </div>\n",
              "  </div>\n"
            ],
            "application/vnd.google.colaboratory.intrinsic+json": {
              "type": "dataframe",
              "variable_name": "qqq_daily",
              "summary": "{\n  \"name\": \"qqq_daily\",\n  \"rows\": 0,\n  \"fields\": []\n}"
            }
          },
          "metadata": {},
          "execution_count": 22
        }
      ]
    },
    {
      "cell_type": "markdown",
      "source": [
        "# Visualization\n",
        "\n",
        "1. Single time series data graph\n",
        "2. Multiple data in a graph\n",
        "3. Multiple graphs"
      ],
      "metadata": {
        "id": "YwD21r8g1qYo"
      }
    },
    {
      "cell_type": "code",
      "source": [],
      "metadata": {
        "id": "pqtcG9J61sQ7"
      },
      "execution_count": null,
      "outputs": []
    },
    {
      "cell_type": "markdown",
      "source": [
        "# Train/Dev/Test Data Distribution\n",
        "\n",
        "Hypothesis 1:\n",
        "\n",
        "1. Entire dataset amount:\n",
        "2. Train/Dev/Test Ratio:"
      ],
      "metadata": {
        "id": "cJNA15wk2H0G"
      }
    },
    {
      "cell_type": "code",
      "source": [],
      "metadata": {
        "id": "hgtCNQyM2Pxo"
      },
      "execution_count": null,
      "outputs": []
    }
  ]
}