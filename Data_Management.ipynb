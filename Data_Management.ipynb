{
  "nbformat": 4,
  "nbformat_minor": 0,
  "metadata": {
    "colab": {
      "provenance": [],
      "authorship_tag": "ABX9TyMHsoFy5jvoVehsLdeiyu0l",
      "include_colab_link": true
    },
    "kernelspec": {
      "name": "python3",
      "display_name": "Python 3"
    },
    "language_info": {
      "name": "python"
    }
  },
  "cells": [
    {
      "cell_type": "markdown",
      "metadata": {
        "id": "view-in-github",
        "colab_type": "text"
      },
      "source": [
        "<a href=\"https://colab.research.google.com/github/Seb207/Market-Context-Project/blob/main/Data_Management.ipynb\" target=\"_parent\"><img src=\"https://colab.research.google.com/assets/colab-badge.svg\" alt=\"Open In Colab\"/></a>"
      ]
    },
    {
      "cell_type": "markdown",
      "source": [
        "# Data_Management\n",
        "\n",
        "***Required Functions***\n",
        "\n",
        "- SQL DB Connection, Managing\n",
        "- Data conversion\n",
        "- Data labeling\n",
        "- Data I/O\n",
        "- Current DB status"
      ],
      "metadata": {
        "id": "2o5swlTTbAYq"
      }
    },
    {
      "cell_type": "markdown",
      "source": [
        "Import Packages"
      ],
      "metadata": {
        "id": "XWNSWFshdssa"
      }
    },
    {
      "cell_type": "code",
      "source": [
        "import numpy as np\n",
        "import pandas as pd\n",
        "import psycopg2"
      ],
      "metadata": {
        "id": "bBcAqRpPbeKp"
      },
      "execution_count": 1,
      "outputs": []
    },
    {
      "cell_type": "markdown",
      "source": [
        "SQL Connect & Setup"
      ],
      "metadata": {
        "id": "BWDB9VG7d6qa"
      }
    },
    {
      "cell_type": "code",
      "source": [
        "!sudo apt-get -y -qq update\n",
        "!sudo apt-get -y -qq install postgresql"
      ],
      "metadata": {
        "colab": {
          "base_uri": "https://localhost:8080/"
        },
        "id": "zfn1IL1btoP0",
        "outputId": "07b54445-6311-498c-c9cd-ffe31df8a78d"
      },
      "execution_count": null,
      "outputs": [
        {
          "output_type": "stream",
          "name": "stdout",
          "text": [
            "W: Skipping acquire of configured file 'main/source/Sources' as repository 'https://r2u.stat.illinois.edu/ubuntu jammy InRelease' does not seem to provide it (sources.list entry misspelt?)\n"
          ]
        }
      ]
    },
    {
      "cell_type": "code",
      "source": [
        "!sudo service postgresql start"
      ],
      "metadata": {
        "colab": {
          "base_uri": "https://localhost:8080/"
        },
        "id": "fADBEaHTttOq",
        "outputId": "0d4ca5b2-aa9c-4d84-83c7-65418f87561d"
      },
      "execution_count": null,
      "outputs": [
        {
          "output_type": "stream",
          "name": "stdout",
          "text": [
            " * Starting PostgreSQL 14 database server\n",
            "   ...done.\n"
          ]
        }
      ]
    },
    {
      "cell_type": "code",
      "source": [
        "con = psycopg2.connect()"
      ],
      "metadata": {
        "id": "BS_r50E0uVCA"
      },
      "execution_count": null,
      "outputs": []
    }
  ]
}