{
  "nbformat": 4,
  "nbformat_minor": 0,
  "metadata": {
    "colab": {
      "provenance": [],
      "authorship_tag": "ABX9TyO9RldgVL+eo57jCxnssqnG",
      "include_colab_link": true
    },
    "kernelspec": {
      "name": "python3",
      "display_name": "Python 3"
    },
    "language_info": {
      "name": "python"
    }
  },
  "cells": [
    {
      "cell_type": "markdown",
      "metadata": {
        "id": "view-in-github",
        "colab_type": "text"
      },
      "source": [
        "<a href=\"https://colab.research.google.com/github/Seb207/Market-Context-Project/blob/main/Data%20Preprocessing/Data_Analysis_Lab.ipynb\" target=\"_parent\"><img src=\"https://colab.research.google.com/assets/colab-badge.svg\" alt=\"Open In Colab\"/></a>"
      ]
    },
    {
      "cell_type": "markdown",
      "source": [
        "Financial Analysis Tools Used To Find Meaningful Insight"
      ],
      "metadata": {
        "id": "O5sDiRaBqQmB"
      }
    },
    {
      "cell_type": "markdown",
      "source": [
        "# List of tools\n",
        "- Performance (shape ratio, rolling return, MDD, etc.)\n",
        "- Trading Volume\n",
        "- Bayesian\n",
        "-"
      ],
      "metadata": {
        "id": "eHMvUdzXqfPm"
      }
    },
    {
      "cell_type": "code",
      "source": [
        "import pandas as pd\n",
        "import numpy as np"
      ],
      "metadata": {
        "id": "LMjLIars3o5a"
      },
      "execution_count": 1,
      "outputs": []
    },
    {
      "cell_type": "markdown",
      "source": [
        "##1. Performance"
      ],
      "metadata": {
        "id": "-gbKXIKd7CpL"
      }
    },
    {
      "cell_type": "markdown",
      "source": [
        "#1.1 Sharpe Ratio\n",
        "\n",
        "Rate of return corresponding to the risk\n",
        "\n",
        "Parameters:\n",
        "- Expected portfolio return (RE)\n",
        "- Risk free rate of return (RF)\n",
        "- STD of portfolio return (volatility) (V)\n",
        "\n",
        "Formula:\n",
        "(RE - RF) / V\n",
        "\n",
        "Purpose:\n",
        "- Maximizing return and reducing volatility of the entire **portfolio**"
      ],
      "metadata": {
        "id": "d66DOtM05CWS"
      }
    },
    {
      "cell_type": "code",
      "source": [
        "def sharpe_ratio(self, dataset : pd.Series, rate : float):\n",
        "  \"\"\"\n",
        "  Annualized sharpe ratio\n",
        "\n",
        "  parameters\n",
        "  ------------------\n",
        "  dataset: price data\n",
        "  rate: risk free rate of return\n",
        "\n",
        "  returns\n",
        "  ------------------\n",
        "  sharpe_ratio\n",
        "  \"\"\"\n",
        "\n",
        "  ret = dataset.pct_change()\n",
        "  cum_ret = (1 + ret).prod()\n",
        "  periods = ret.shape[0]\n",
        "  ann_ret = cum_ret ** (252/periods) - 1 # Assume that the market is open 252 days per year\n",
        "  volatility = ret.std()\n",
        "  ann_vol = volatility * (252**0.5)\n",
        "\n",
        "  sharpe_ratio = (ann_ret - rate) / ann_vol\n",
        "\n",
        "  return sharpe_ratio"
      ],
      "metadata": {
        "id": "wQz_FYqY3c4k"
      },
      "execution_count": 2,
      "outputs": []
    },
    {
      "cell_type": "markdown",
      "source": [
        "#1.2 Sortino ratio"
      ],
      "metadata": {
        "id": "lDIpa22Y7Jxu"
      }
    },
    {
      "cell_type": "code",
      "source": [],
      "metadata": {
        "id": "OBdeO8t-7NvN"
      },
      "execution_count": null,
      "outputs": []
    },
    {
      "cell_type": "markdown",
      "source": [
        "#1.3 Maximum Draw Down"
      ],
      "metadata": {
        "id": "Zz798hYF7OR7"
      }
    },
    {
      "cell_type": "code",
      "source": [],
      "metadata": {
        "id": "Bej59LsD7hbL"
      },
      "execution_count": null,
      "outputs": []
    },
    {
      "cell_type": "markdown",
      "source": [
        "#1.4 Calmar Ratio"
      ],
      "metadata": {
        "id": "HHhnKAVk7hnN"
      }
    },
    {
      "cell_type": "code",
      "source": [],
      "metadata": {
        "id": "VidwPdss7kLm"
      },
      "execution_count": null,
      "outputs": []
    }
  ]
}