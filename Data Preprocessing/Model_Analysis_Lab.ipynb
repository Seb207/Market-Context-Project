{
  "nbformat": 4,
  "nbformat_minor": 0,
  "metadata": {
    "colab": {
      "provenance": [],
      "authorship_tag": "ABX9TyMsKbBMS0YiEYKUaW58o2YW",
      "include_colab_link": true
    },
    "kernelspec": {
      "name": "python3",
      "display_name": "Python 3"
    },
    "language_info": {
      "name": "python"
    }
  },
  "cells": [
    {
      "cell_type": "markdown",
      "metadata": {
        "id": "view-in-github",
        "colab_type": "text"
      },
      "source": [
        "<a href=\"https://colab.research.google.com/github/Seb207/Market-Context-Project/blob/main/Data%20Preprocessing/Model_Analysis_Lab.ipynb\" target=\"_parent\"><img src=\"https://colab.research.google.com/assets/colab-badge.svg\" alt=\"Open In Colab\"/></a>"
      ]
    },
    {
      "cell_type": "markdown",
      "source": [
        "Financial Analysis Tools Used To Find Meaningful Insight"
      ],
      "metadata": {
        "id": "O5sDiRaBqQmB"
      }
    },
    {
      "cell_type": "markdown",
      "source": [
        "# List of tools\n",
        "- Performance & Risk (shape ratio, rolling return, MDD, etc.)\n",
        "- Technical Analysis\n",
        "- Fundamental Analysis\n",
        "\n",
        "**List of Libraries**\n",
        "- Pyfolio --> performance stats\n",
        "- Zipline --> performance stats, backtest\n",
        "- Quantlib -->"
      ],
      "metadata": {
        "id": "eHMvUdzXqfPm"
      }
    },
    {
      "cell_type": "code",
      "source": [
        "pip install pyfolio"
      ],
      "metadata": {
        "colab": {
          "base_uri": "https://localhost:8080/"
        },
        "collapsed": true,
        "id": "grc-WkvPxStb",
        "outputId": "8fd1f582-caab-4302-dc4d-7bf2f1817159"
      },
      "execution_count": null,
      "outputs": [
        {
          "output_type": "stream",
          "name": "stdout",
          "text": [
            "Collecting pyfolio\n",
            "  Downloading pyfolio-0.9.2.tar.gz (91 kB)\n",
            "\u001b[2K     \u001b[90m━━━━━━━━━━━━━━━━━━━━━━━━━━━━━━━━━━━━━━━━\u001b[0m \u001b[32m91.1/91.1 kB\u001b[0m \u001b[31m3.2 MB/s\u001b[0m eta \u001b[36m0:00:00\u001b[0m\n",
            "\u001b[?25h  Preparing metadata (setup.py) ... \u001b[?25l\u001b[?25hdone\n",
            "Requirement already satisfied: ipython>=3.2.3 in /usr/local/lib/python3.11/dist-packages (from pyfolio) (7.34.0)\n",
            "Requirement already satisfied: matplotlib>=1.4.0 in /usr/local/lib/python3.11/dist-packages (from pyfolio) (3.10.0)\n",
            "Requirement already satisfied: numpy>=1.11.1 in /usr/local/lib/python3.11/dist-packages (from pyfolio) (2.0.2)\n",
            "Requirement already satisfied: pandas>=0.18.1 in /usr/local/lib/python3.11/dist-packages (from pyfolio) (2.2.2)\n",
            "Requirement already satisfied: pytz>=2014.10 in /usr/local/lib/python3.11/dist-packages (from pyfolio) (2025.2)\n",
            "Requirement already satisfied: scipy>=0.14.0 in /usr/local/lib/python3.11/dist-packages (from pyfolio) (1.16.0)\n",
            "Requirement already satisfied: scikit-learn>=0.16.1 in /usr/local/lib/python3.11/dist-packages (from pyfolio) (1.6.1)\n",
            "Requirement already satisfied: seaborn>=0.7.1 in /usr/local/lib/python3.11/dist-packages (from pyfolio) (0.13.2)\n",
            "Collecting empyrical>=0.5.0 (from pyfolio)\n",
            "  Downloading empyrical-0.5.5.tar.gz (52 kB)\n",
            "\u001b[2K     \u001b[90m━━━━━━━━━━━━━━━━━━━━━━━━━━━━━━━━━━━━━━━━\u001b[0m \u001b[32m52.8/52.8 kB\u001b[0m \u001b[31m3.4 MB/s\u001b[0m eta \u001b[36m0:00:00\u001b[0m\n",
            "\u001b[?25h  Preparing metadata (setup.py) ... \u001b[?25l\u001b[?25hdone\n",
            "Requirement already satisfied: pandas-datareader>=0.2 in /usr/local/lib/python3.11/dist-packages (from empyrical>=0.5.0->pyfolio) (0.10.0)\n",
            "Requirement already satisfied: setuptools>=18.5 in /usr/local/lib/python3.11/dist-packages (from ipython>=3.2.3->pyfolio) (75.2.0)\n",
            "Collecting jedi>=0.16 (from ipython>=3.2.3->pyfolio)\n",
            "  Downloading jedi-0.19.2-py2.py3-none-any.whl.metadata (22 kB)\n",
            "Requirement already satisfied: decorator in /usr/local/lib/python3.11/dist-packages (from ipython>=3.2.3->pyfolio) (4.4.2)\n",
            "Requirement already satisfied: pickleshare in /usr/local/lib/python3.11/dist-packages (from ipython>=3.2.3->pyfolio) (0.7.5)\n",
            "Requirement already satisfied: traitlets>=4.2 in /usr/local/lib/python3.11/dist-packages (from ipython>=3.2.3->pyfolio) (5.7.1)\n",
            "Requirement already satisfied: prompt-toolkit!=3.0.0,!=3.0.1,<3.1.0,>=2.0.0 in /usr/local/lib/python3.11/dist-packages (from ipython>=3.2.3->pyfolio) (3.0.51)\n",
            "Requirement already satisfied: pygments in /usr/local/lib/python3.11/dist-packages (from ipython>=3.2.3->pyfolio) (2.19.2)\n",
            "Requirement already satisfied: backcall in /usr/local/lib/python3.11/dist-packages (from ipython>=3.2.3->pyfolio) (0.2.0)\n",
            "Requirement already satisfied: matplotlib-inline in /usr/local/lib/python3.11/dist-packages (from ipython>=3.2.3->pyfolio) (0.1.7)\n",
            "Requirement already satisfied: pexpect>4.3 in /usr/local/lib/python3.11/dist-packages (from ipython>=3.2.3->pyfolio) (4.9.0)\n",
            "Requirement already satisfied: contourpy>=1.0.1 in /usr/local/lib/python3.11/dist-packages (from matplotlib>=1.4.0->pyfolio) (1.3.2)\n",
            "Requirement already satisfied: cycler>=0.10 in /usr/local/lib/python3.11/dist-packages (from matplotlib>=1.4.0->pyfolio) (0.12.1)\n",
            "Requirement already satisfied: fonttools>=4.22.0 in /usr/local/lib/python3.11/dist-packages (from matplotlib>=1.4.0->pyfolio) (4.59.0)\n",
            "Requirement already satisfied: kiwisolver>=1.3.1 in /usr/local/lib/python3.11/dist-packages (from matplotlib>=1.4.0->pyfolio) (1.4.8)\n",
            "Requirement already satisfied: packaging>=20.0 in /usr/local/lib/python3.11/dist-packages (from matplotlib>=1.4.0->pyfolio) (25.0)\n",
            "Requirement already satisfied: pillow>=8 in /usr/local/lib/python3.11/dist-packages (from matplotlib>=1.4.0->pyfolio) (11.3.0)\n",
            "Requirement already satisfied: pyparsing>=2.3.1 in /usr/local/lib/python3.11/dist-packages (from matplotlib>=1.4.0->pyfolio) (3.2.3)\n",
            "Requirement already satisfied: python-dateutil>=2.7 in /usr/local/lib/python3.11/dist-packages (from matplotlib>=1.4.0->pyfolio) (2.9.0.post0)\n",
            "Requirement already satisfied: tzdata>=2022.7 in /usr/local/lib/python3.11/dist-packages (from pandas>=0.18.1->pyfolio) (2025.2)\n",
            "Requirement already satisfied: joblib>=1.2.0 in /usr/local/lib/python3.11/dist-packages (from scikit-learn>=0.16.1->pyfolio) (1.5.1)\n",
            "Requirement already satisfied: threadpoolctl>=3.1.0 in /usr/local/lib/python3.11/dist-packages (from scikit-learn>=0.16.1->pyfolio) (3.6.0)\n",
            "Requirement already satisfied: parso<0.9.0,>=0.8.4 in /usr/local/lib/python3.11/dist-packages (from jedi>=0.16->ipython>=3.2.3->pyfolio) (0.8.4)\n",
            "Requirement already satisfied: lxml in /usr/local/lib/python3.11/dist-packages (from pandas-datareader>=0.2->empyrical>=0.5.0->pyfolio) (5.4.0)\n",
            "Requirement already satisfied: requests>=2.19.0 in /usr/local/lib/python3.11/dist-packages (from pandas-datareader>=0.2->empyrical>=0.5.0->pyfolio) (2.32.3)\n",
            "Requirement already satisfied: ptyprocess>=0.5 in /usr/local/lib/python3.11/dist-packages (from pexpect>4.3->ipython>=3.2.3->pyfolio) (0.7.0)\n",
            "Requirement already satisfied: wcwidth in /usr/local/lib/python3.11/dist-packages (from prompt-toolkit!=3.0.0,!=3.0.1,<3.1.0,>=2.0.0->ipython>=3.2.3->pyfolio) (0.2.13)\n",
            "Requirement already satisfied: six>=1.5 in /usr/local/lib/python3.11/dist-packages (from python-dateutil>=2.7->matplotlib>=1.4.0->pyfolio) (1.17.0)\n",
            "Requirement already satisfied: charset-normalizer<4,>=2 in /usr/local/lib/python3.11/dist-packages (from requests>=2.19.0->pandas-datareader>=0.2->empyrical>=0.5.0->pyfolio) (3.4.2)\n",
            "Requirement already satisfied: idna<4,>=2.5 in /usr/local/lib/python3.11/dist-packages (from requests>=2.19.0->pandas-datareader>=0.2->empyrical>=0.5.0->pyfolio) (3.10)\n",
            "Requirement already satisfied: urllib3<3,>=1.21.1 in /usr/local/lib/python3.11/dist-packages (from requests>=2.19.0->pandas-datareader>=0.2->empyrical>=0.5.0->pyfolio) (2.5.0)\n",
            "Requirement already satisfied: certifi>=2017.4.17 in /usr/local/lib/python3.11/dist-packages (from requests>=2.19.0->pandas-datareader>=0.2->empyrical>=0.5.0->pyfolio) (2025.7.14)\n",
            "Downloading jedi-0.19.2-py2.py3-none-any.whl (1.6 MB)\n",
            "\u001b[2K   \u001b[90m━━━━━━━━━━━━━━━━━━━━━━━━━━━━━━━━━━━━━━━━\u001b[0m \u001b[32m1.6/1.6 MB\u001b[0m \u001b[31m28.1 MB/s\u001b[0m eta \u001b[36m0:00:00\u001b[0m\n",
            "\u001b[?25hBuilding wheels for collected packages: pyfolio, empyrical\n",
            "  Building wheel for pyfolio (setup.py) ... \u001b[?25l\u001b[?25hdone\n",
            "  Created wheel for pyfolio: filename=pyfolio-0.9.2-py3-none-any.whl size=88654 sha256=339300ba1384dfedc6c7d1a2bbb2bb40f0ac1db6942cf0068a5ab4c394d68992\n",
            "  Stored in directory: /root/.cache/pip/wheels/f9/af/9e/7c343b822164a3147a3d395a1bcd05041c520a3bc6398fe88e\n",
            "  Building wheel for empyrical (setup.py) ... \u001b[?25l\u001b[?25hdone\n",
            "  Created wheel for empyrical: filename=empyrical-0.5.5-py3-none-any.whl size=39752 sha256=16546daabf6e5d2c7284b3c08e786926398c622051e7c62313646b0134d1d031\n",
            "  Stored in directory: /root/.cache/pip/wheels/ac/1d/58/a7ae5ef5c8de7c4b769f24c2584f4706564921f031b16b9cb6\n",
            "Successfully built pyfolio empyrical\n",
            "Installing collected packages: jedi, empyrical, pyfolio\n",
            "Successfully installed empyrical-0.5.5 jedi-0.19.2 pyfolio-0.9.2\n"
          ]
        }
      ]
    },
    {
      "cell_type": "code",
      "source": [
        "pip install zipline"
      ],
      "metadata": {
        "colab": {
          "base_uri": "https://localhost:8080/"
        },
        "collapsed": true,
        "id": "nOzbPbOPxaR9",
        "outputId": "9ca82859-5df9-4eac-a84a-cca43f0b9946"
      },
      "execution_count": null,
      "outputs": [
        {
          "output_type": "stream",
          "name": "stdout",
          "text": [
            "Collecting zipline\n",
            "  Downloading zipline-1.4.1.tar.gz (5.4 MB)\n",
            "\u001b[2K     \u001b[90m━━━━━━━━━━━━━━━━━━━━━━━━━━━━━━━━━━━━━━━━\u001b[0m \u001b[32m5.4/5.4 MB\u001b[0m \u001b[31m25.6 MB/s\u001b[0m eta \u001b[36m0:00:00\u001b[0m\n",
            "\u001b[?25h  Preparing metadata (setup.py) ... \u001b[?25l\u001b[?25hdone\n",
            "Requirement already satisfied: pip>=7.1.0 in /usr/local/lib/python3.11/dist-packages (from zipline) (24.1.2)\n",
            "Requirement already satisfied: setuptools>18.0 in /usr/local/lib/python3.11/dist-packages (from zipline) (75.2.0)\n",
            "Collecting Logbook>=0.12.5 (from zipline)\n",
            "  Downloading logbook-1.8.2-cp311-cp311-manylinux1_x86_64.manylinux_2_28_x86_64.manylinux_2_5_x86_64.whl.metadata (2.6 kB)\n",
            "Requirement already satisfied: click>=4.0.0 in /usr/local/lib/python3.11/dist-packages (from zipline) (8.2.1)\n",
            "Requirement already satisfied: six>=1.10.0 in /usr/local/lib/python3.11/dist-packages (from zipline) (1.17.0)\n",
            "Collecting python-interface>=1.5.3 (from zipline)\n",
            "  Downloading python-interface-1.6.1.tar.gz (19 kB)\n",
            "  Preparing metadata (setup.py) ... \u001b[?25l\u001b[?25hdone\n",
            "Requirement already satisfied: multipledispatch>=0.6.0 in /usr/local/lib/python3.11/dist-packages (from zipline) (1.0.0)\n",
            "Requirement already satisfied: toolz>=0.8.2 in /usr/local/lib/python3.11/dist-packages (from zipline) (0.12.1)\n",
            "Requirement already satisfied: numpy>=1.11.3 in /usr/local/lib/python3.11/dist-packages (from zipline) (2.0.2)\n",
            "Collecting pandas<=0.22,>=0.18.1 (from zipline)\n",
            "  Downloading pandas-0.22.0.tar.gz (11.3 MB)\n",
            "\u001b[2K     \u001b[90m━━━━━━━━━━━━━━━━━━━━━━━━━━━━━━━━━━━━━━━━\u001b[0m \u001b[32m11.3/11.3 MB\u001b[0m \u001b[31m45.1 MB/s\u001b[0m eta \u001b[36m0:00:00\u001b[0m\n",
            "\u001b[?25h  \u001b[1;31merror\u001b[0m: \u001b[1msubprocess-exited-with-error\u001b[0m\n",
            "  \n",
            "  \u001b[31m×\u001b[0m \u001b[32mpip subprocess to install build dependencies\u001b[0m did not run successfully.\n",
            "  \u001b[31m│\u001b[0m exit code: \u001b[1;36m1\u001b[0m\n",
            "  \u001b[31m╰─>\u001b[0m See above for output.\n",
            "  \n",
            "  \u001b[1;35mnote\u001b[0m: This error originates from a subprocess, and is likely not a problem with pip.\n",
            "  Installing build dependencies ... \u001b[?25l\u001b[?25herror\n",
            "\u001b[1;31merror\u001b[0m: \u001b[1msubprocess-exited-with-error\u001b[0m\n",
            "\n",
            "\u001b[31m×\u001b[0m \u001b[32mpip subprocess to install build dependencies\u001b[0m did not run successfully.\n",
            "\u001b[31m│\u001b[0m exit code: \u001b[1;36m1\u001b[0m\n",
            "\u001b[31m╰─>\u001b[0m See above for output.\n",
            "\n",
            "\u001b[1;35mnote\u001b[0m: This error originates from a subprocess, and is likely not a problem with pip.\n"
          ]
        }
      ]
    },
    {
      "cell_type": "code",
      "source": [
        "import pandas as pd\n",
        "import numpy as np\n",
        "\n",
        "import pyfolio as pf"
      ],
      "metadata": {
        "id": "LMjLIars3o5a",
        "colab": {
          "base_uri": "https://localhost:8080/"
        },
        "outputId": "62450c95-dff1-4362-ddcf-db1bef6cd471"
      },
      "execution_count": null,
      "outputs": [
        {
          "output_type": "stream",
          "name": "stderr",
          "text": [
            "/usr/local/lib/python3.11/dist-packages/pyfolio/pos.py:26: UserWarning: Module \"zipline.assets\" not found; mutltipliers will not be applied to position notionals.\n",
            "  warnings.warn(\n"
          ]
        }
      ]
    },
    {
      "cell_type": "markdown",
      "source": [
        "##1. Performance & Risk\n",
        "\n",
        "- Data is preprocessed (start-end, dropna) before passing through the formula"
      ],
      "metadata": {
        "id": "-gbKXIKd7CpL"
      }
    },
    {
      "cell_type": "markdown",
      "source": [
        "#1.1 Sharpe Ratio\n",
        "\n",
        "Rate of return corresponding to the risk\n",
        "\n",
        "Parameters:\n",
        "- Expected portfolio return (RE)\n",
        "- Risk free rate of return (RF)\n",
        "- STD of portfolio return (volatility) (V)\n",
        "\n",
        "Formula:\n",
        "(RE - RF) / V\n",
        "\n",
        "Purpose:\n",
        "- Maximizing return and reducing volatility of the entire **portfolio**"
      ],
      "metadata": {
        "id": "d66DOtM05CWS"
      }
    },
    {
      "cell_type": "code",
      "source": [
        "def sharpe_ratio(self, dataset : pd.Series, rate : float) -> float:\n",
        "  \"\"\"\n",
        "  sharpe ratio\n",
        "\n",
        "  parameters\n",
        "  ------------------\n",
        "  dataset: price data\n",
        "  rate: risk free rate of return (annual rate)\n",
        "  annualized: Boolean whether the result has to be annualized\n",
        "\n",
        "  returns\n",
        "  ------------------\n",
        "  sharpe_ratio\n",
        "  \"\"\"\n",
        "\n",
        "  ret = dataset.pct_change()              # return for each trading day (s[i] / s[i-1])\n",
        "  cum_ret = (1 + ret).prod()              # cummulative return of the entire period (add 1 for each element to make it growing)\n",
        "  periods = ret.shape[0]                  # length of the series --> period\n",
        "  ann_ret = cum_ret ** (252/periods) - 1  # Assume that the market is open 252 days per year\n",
        "  volatility = ret.std()                  # volatility is set as the standard deviation of the return\n",
        "  ann_vol = volatility * (252**0.5)       # annual volatility --> annual_std = (252 * variance) ** 0.5\n",
        "\n",
        "  sharpe_ratio = (ann_ret - rate) / ann_vol\n",
        "\n",
        "  return sharpe_ratio"
      ],
      "metadata": {
        "id": "wQz_FYqY3c4k"
      },
      "execution_count": null,
      "outputs": []
    },
    {
      "cell_type": "markdown",
      "source": [
        "#1.2 Sortino ratio"
      ],
      "metadata": {
        "id": "lDIpa22Y7Jxu"
      }
    },
    {
      "cell_type": "markdown",
      "source": [
        "Rate of return corresponding to the downside volatility\n",
        "\n",
        "Parameters:\n",
        "- Expected portfolio return (RE)\n",
        "- Risk free rate of return (RF)\n",
        "- Downside STD of portfolio return (volatility) (V[-])\n",
        "\n",
        "Formula:\n",
        "(RE - RF) / V[-]\n",
        "\n",
        "Purpose:\n",
        "- Similar as the sharpe ratio, however, only considers downside risk"
      ],
      "metadata": {
        "id": "I_KrsJbNnGu1"
      }
    },
    {
      "cell_type": "code",
      "source": [
        "def sortino_ratio(self, dataset : pd.Series, rate : float):\n",
        "  \"\"\"\n",
        "  rate of return corresponding to the downside volatility\n",
        "\n",
        "  parameters\n",
        "  ----------\n",
        "  dataset: time series price data of the target\n",
        "  rate: risk-free rate of return\n",
        "\n",
        "  returns\n",
        "  -------\n",
        "  sortino-ratio\n",
        "  \"\"\"\n",
        "\n",
        "  ret = dataset.pct_change()              # return for each trading day (s[i] / s[i-1])\n",
        "  cum_ret = (1 + ret).prod()              # cummulative return of the entire period (add 1 for each element to make it growing)\n",
        "  periods = ret.shape[0]                  # length of the series --> period\n",
        "  ann_ret = cum_ret ** (252/periods) - 1  # Assume that the market is open 252 days per year\n",
        "  negative_ret = ret[ret < 0]             # Filters negative returns from \"ret\"\n",
        "  volatility = negative_ret.std()         # volatility is set as the standard deviation of the return\n",
        "  ann_vol = volatility * (252**0.5)       # annual volatility --> annual_std = (252 * variance) ** 0.5\n",
        "\n",
        "  if ann_vol == 0:\n",
        "    return np.nan\n",
        "\n",
        "  sortino_ratio = (ann_ret - rate) / ann_vol\n",
        "\n",
        "  return sortino_ratio"
      ],
      "metadata": {
        "id": "OBdeO8t-7NvN"
      },
      "execution_count": null,
      "outputs": []
    },
    {
      "cell_type": "markdown",
      "source": [
        "#1.3 Maximum Draw Down"
      ],
      "metadata": {
        "id": "Zz798hYF7OR7"
      }
    },
    {
      "cell_type": "code",
      "source": [
        "def maximum_drawdown (self, dataset : pd.Series):\n",
        "  \"\"\"\n",
        "  parameters\n",
        "  ----------\n",
        "  dataset: time series data with (date vs. EOD price)\n",
        "\n",
        "  returns\n",
        "  -------\n",
        "  -maximum_drawdown: MDD of the input data (negative value)\n",
        "  dd_max: MDD max price\n",
        "  dd_min: MDD min price\n",
        "\n",
        "  \"\"\"\n",
        "\n",
        "  max_drawdown = 0\n",
        "  max_price = 0\n",
        "  dd_max = 0\n",
        "  dd_min = 0\n",
        "  num_days = len(dataset)\n",
        "\n",
        "  for i in range(0, num_days):\n",
        "    max_price = max(max_price, dataset[i])\n",
        "    drawdown = (max_price - dataset[i]) / max_price\n",
        "\n",
        "    if drawdown > max_drawdown:\n",
        "      max_drawdown = drawdown\n",
        "      dd_max = max_price\n",
        "      dd_min = dataset[i]\n",
        "\n",
        "  maximum_drawdown = - maximum_drawdown\n",
        "\n",
        "  return (max_drawdown, dd_max, dd_min)\n"
      ],
      "metadata": {
        "id": "Bej59LsD7hbL"
      },
      "execution_count": null,
      "outputs": []
    },
    {
      "cell_type": "code",
      "source": [
        "def maximum_drawdown_simple (self, dataset : pd.Series):\n",
        "  rets = dataset.pct_change()\n",
        "  cumm_rets = (1 + rets).cumprod()\n",
        "\n",
        "  peak = cumm_rets.cummax()\n",
        "  drawdown = (cumm_rets - peak) / peak\n",
        "  maximum_drawdown = drawdown.min()\n",
        "\n",
        "  return maximum_drawdown"
      ],
      "metadata": {
        "id": "w-28L_-IrmLT"
      },
      "execution_count": null,
      "outputs": []
    },
    {
      "cell_type": "markdown",
      "source": [
        "#1.4 Calmar Ratio"
      ],
      "metadata": {
        "id": "HHhnKAVk7hnN"
      }
    },
    {
      "cell_type": "code",
      "source": [
        "def calmar_ratio (self, dataset : pd.Series):\n",
        "  \"\"\"\n",
        "  parameters\n",
        "  ----------\n",
        "  dataset: time series data with (date vs. EOD price)\n",
        "\n",
        "  returns\n",
        "  -------\n",
        "  calmar_ratio:\n",
        "\n",
        "  \"\"\"\n",
        "\n",
        "  max_drawdown = maximum_drawdown(dataset)[0]\n",
        "\n",
        "  if max_drawdown == 0:\n",
        "    return np.nan\n",
        "\n",
        "  ret = dataset.pct_change()              # return for each trading day (s[i] / s[i-1])\n",
        "  cum_ret = (1 + ret).prod()              # cummulative return of the entire period (add 1 for each element to make it growing)\n",
        "  periods = ret.shape[0]                  # length of the series --> period\n",
        "  ann_ret = cum_ret ** (252/periods) - 1  # Assume that the market is open 252 days per year\n",
        "\n",
        "  calmar_ratio = ann_ret / abs(max_drawdown)\n",
        "\n",
        "  return calmar_ratio"
      ],
      "metadata": {
        "id": "VidwPdss7kLm"
      },
      "execution_count": null,
      "outputs": []
    },
    {
      "cell_type": "markdown",
      "source": [
        "#1.5 Markowitz (MPT)"
      ],
      "metadata": {
        "id": "mrGSqMmzWNsD"
      }
    },
    {
      "cell_type": "code",
      "source": [],
      "metadata": {
        "id": "W2RcPGyVWXKv"
      },
      "execution_count": null,
      "outputs": []
    },
    {
      "cell_type": "markdown",
      "source": [
        "#1.6 Kelley Criterion"
      ],
      "metadata": {
        "id": "IEQDpE8_WXuQ"
      }
    },
    {
      "cell_type": "code",
      "source": [],
      "metadata": {
        "id": "khoCkW8EWfVo"
      },
      "execution_count": null,
      "outputs": []
    },
    {
      "cell_type": "markdown",
      "source": [
        "##2. Technical Analysis"
      ],
      "metadata": {
        "id": "LK0_-_BnXuo2"
      }
    },
    {
      "cell_type": "markdown",
      "source": [
        "- Moving Average\n",
        "- RSI\n",
        "- Bollinger Band\n",
        "- MACD\n",
        "- ARIMA\n",
        "- GARCH"
      ],
      "metadata": {
        "id": "zPw95tqvjBSP"
      }
    },
    {
      "cell_type": "markdown",
      "source": [
        "#2.1 Moving Average\n",
        "- Simple Moving Average\n",
        "- EWMA"
      ],
      "metadata": {
        "id": "UBRY9Zb2S1Fl"
      }
    },
    {
      "cell_type": "code",
      "source": [],
      "metadata": {
        "id": "bH5zuv2IXzO1"
      },
      "execution_count": null,
      "outputs": []
    },
    {
      "cell_type": "markdown",
      "source": [
        "##3. Fundamental Analysis"
      ],
      "metadata": {
        "id": "BrLG0_8PX0tF"
      }
    },
    {
      "cell_type": "markdown",
      "source": [
        "- CAPM\n",
        "- VaR, CVaR\n",
        "- PER\n",
        "- FWD PER\n",
        "- PBR\n",
        "- ROE"
      ],
      "metadata": {
        "id": "NxgmjkMCjuVt"
      }
    },
    {
      "cell_type": "code",
      "source": [],
      "metadata": {
        "id": "3YDX4zQRX3yy"
      },
      "execution_count": null,
      "outputs": []
    },
    {
      "cell_type": "markdown",
      "source": [
        "##4. Optimization"
      ],
      "metadata": {
        "id": "G9Zz6fnuIgTe"
      }
    },
    {
      "cell_type": "markdown",
      "source": [
        "- Gradient Descent\n",
        "- Global & Local Min"
      ],
      "metadata": {
        "id": "8q6E1DCoIket"
      }
    },
    {
      "cell_type": "code",
      "source": [],
      "metadata": {
        "id": "Gl2KGA2PIv4O"
      },
      "execution_count": null,
      "outputs": []
    },
    {
      "cell_type": "markdown",
      "source": [
        "##5. Stochastic Process & Simulation"
      ],
      "metadata": {
        "id": "8okFN204H7OB"
      }
    },
    {
      "cell_type": "markdown",
      "source": [
        "- Random Variable\n",
        "- Monte Carlo Simulation\n",
        "- BSM\n",
        "- Heston Model\n",
        "- Jump Diffusion\n",
        "- LSM\n",
        "- Valuation & Risk Measure"
      ],
      "metadata": {
        "id": "t7zcBnAxH-8D"
      }
    },
    {
      "cell_type": "code",
      "source": [],
      "metadata": {
        "id": "0s2L0SSlH-Un"
      },
      "execution_count": null,
      "outputs": []
    }
  ]
}